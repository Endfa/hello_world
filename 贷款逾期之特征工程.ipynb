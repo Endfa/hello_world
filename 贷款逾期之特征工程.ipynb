{
 "cells": [
  {
   "cell_type": "markdown",
   "metadata": {},
   "source": [
    "特征工程：\n",
    "1.利用IV值进行变量选择\n",
    "IV值即信息价值，表示变量对目标变量的预测能力，IV值越高，变量对目标变量的预测能力越强。\n",
    "接下来利用IV值进行过变量选择，IV值计算代码来自Datawhale。"
   ]
  },
  {
   "cell_type": "code",
   "execution_count": 21,
   "metadata": {},
   "outputs": [],
   "source": [
    "import numpy as np\n",
    "import math\n",
    "import pandas as pd\n",
    "from sklearn.utils.multiclass import type_of_target\n",
    "from scipy import stats"
   ]
  },
  {
   "cell_type": "code",
   "execution_count": 22,
   "metadata": {},
   "outputs": [],
   "source": [
    "data = pd.read_csv('d:/data_cle.csv')"
   ]
  },
  {
   "cell_type": "code",
   "execution_count": 3,
   "metadata": {},
   "outputs": [
    {
     "name": "stdout",
     "output_type": "stream",
     "text": [
      "<class 'pandas.core.frame.DataFrame'>\n",
      "RangeIndex: 4754 entries, 0 to 4753\n",
      "Data columns (total 82 columns):\n",
      "low_volume_percent                            4754 non-null float64\n",
      "middle_volume_percent                         4754 non-null float64\n",
      "take_amount_in_later_12_month_highest         4754 non-null int64\n",
      "trans_amount_increase_rate_lately             4754 non-null float64\n",
      "trans_activity_month                          4754 non-null float64\n",
      "trans_activity_day                            4754 non-null float64\n",
      "transd_mcc                                    4754 non-null int64\n",
      "trans_days_interval_filter                    4754 non-null int64\n",
      "trans_days_interval                           4754 non-null int64\n",
      "regional_mobility                             4754 non-null int64\n",
      "repayment_capability                          4754 non-null int64\n",
      "is_high_user                                  4754 non-null int64\n",
      "number_of_trans_from_2011                     4754 non-null int64\n",
      "historical_trans_amount                       4754 non-null int64\n",
      "historical_trans_day                          4754 non-null int64\n",
      "rank_trad_1_month                             4754 non-null float64\n",
      "trans_amount_3_month                          4754 non-null int64\n",
      "avg_consume_less_12_valid_month               4754 non-null int64\n",
      "abs                                           4754 non-null int64\n",
      "top_trans_count_last_1_month                  4754 non-null float64\n",
      "avg_price_last_12_month                       4754 non-null int64\n",
      "avg_price_top_last_12_valid_month             4754 non-null float64\n",
      "trans_top_time_last_1_month                   4754 non-null int64\n",
      "trans_top_time_last_6_month                   4754 non-null int64\n",
      "consume_top_time_last_1_month                 4754 non-null int64\n",
      "consume_top_time_last_6_month                 4754 non-null int64\n",
      "cross_consume_count_last_1_month              4754 non-null int64\n",
      "trans_fail_top_count_enum_last_1_month        4754 non-null int64\n",
      "trans_fail_top_count_enum_last_6_month        4754 non-null int64\n",
      "trans_fail_top_count_enum_last_12_month       4754 non-null int64\n",
      "consume_mini_time_last_1_month                4754 non-null int64\n",
      "max_cumulative_consume_later_1_month          4754 non-null int64\n",
      "max_consume_count_later_6_month               4754 non-null int64\n",
      "railway_consume_count_last_12_month           4754 non-null int64\n",
      "pawns_auctions_trusts_consume_last_1_month    4754 non-null int64\n",
      "pawns_auctions_trusts_consume_last_6_month    4754 non-null int64\n",
      "jewelry_consume_count_last_6_month            4754 non-null int64\n",
      "first_transaction_day                         4754 non-null int64\n",
      "trans_day_last_12_month                       4754 non-null int64\n",
      "apply_score                                   4754 non-null int64\n",
      "apply_credibility                             4754 non-null int64\n",
      "query_org_count                               4754 non-null int64\n",
      "query_finance_count                           4754 non-null int64\n",
      "query_cash_count                              4754 non-null int64\n",
      "query_sum_count                               4754 non-null int64\n",
      "latest_one_month_apply                        4754 non-null int64\n",
      "latest_three_month_apply                      4754 non-null int64\n",
      "latest_six_month_apply                        4754 non-null int64\n",
      "loans_score                                   4754 non-null int64\n",
      "loans_credibility_behavior                    4754 non-null int64\n",
      "loans_count                                   4754 non-null int64\n",
      "loans_settle_count                            4754 non-null int64\n",
      "loans_overdue_count                           4754 non-null int64\n",
      "loans_org_count_behavior                      4754 non-null int64\n",
      "consfin_org_count_behavior                    4754 non-null int64\n",
      "loans_cash_count                              4754 non-null int64\n",
      "latest_one_month_loan                         4754 non-null int64\n",
      "latest_three_month_loan                       4754 non-null int64\n",
      "latest_six_month_loan                         4754 non-null int64\n",
      "history_suc_fee                               4754 non-null int64\n",
      "history_fail_fee                              4754 non-null int64\n",
      "latest_one_month_suc                          4754 non-null int64\n",
      "latest_one_month_fail                         4754 non-null int64\n",
      "loans_long_time                               4754 non-null int64\n",
      "loans_credit_limit                            4754 non-null int64\n",
      "loans_credibility_limit                       4754 non-null int64\n",
      "loans_org_count_current                       4754 non-null int64\n",
      "loans_product_count                           4754 non-null int64\n",
      "loans_max_limit                               4754 non-null int64\n",
      "loans_avg_limit                               4754 non-null int64\n",
      "consfin_credit_limit                          4754 non-null int64\n",
      "consfin_credibility                           4754 non-null int64\n",
      "consfin_org_count_current                     4754 non-null int64\n",
      "consfin_product_count                         4754 non-null int64\n",
      "consfin_max_limit                             4754 non-null int64\n",
      "consfin_avg_limit                             4754 non-null int64\n",
      "latest_query_day                              4754 non-null int64\n",
      "loans_latest_day                              4754 non-null int64\n",
      "rpft_0                                        4754 non-null int64\n",
      "rpft_1                                        4754 non-null int64\n",
      "rpft_2                                        4754 non-null int64\n",
      "status                                        4754 non-null int64\n",
      "dtypes: float64(8), int64(74)\n",
      "memory usage: 3.0 MB\n"
     ]
    }
   ],
   "source": [
    "data.info()"
   ]
  },
  {
   "cell_type": "code",
   "execution_count": 4,
   "metadata": {},
   "outputs": [],
   "source": [
    "#求woe值和iv值\n",
    "def woe(X, y, event):\n",
    "    res_woe = []  #列表存放woe字典\n",
    "    res_iv = []  #列表存放iv\n",
    "    X1 = feature_discretion(X) #对连续型特征进行处理\n",
    "    for i in range(0, X1.shape[-1]):  #遍历所有特征\n",
    "        x = X1[:, i]  #单个特征\n",
    "        woe_dict, iv1 = woe_single_x(x, y, event)  #计算单个特征的woe值\n",
    "        res_woe.append(woe_dict)\n",
    "        res_iv.append(iv1)\n",
    "    return np.array(res_woe), np.array(res_iv)  #返回数组\n",
    "\n",
    "#求单个特征的woe值\n",
    "def woe_single_x(x, y, event):\n",
    "    event_total, non_event_total = count_binary(y, event) #计算好人坏人总数\n",
    "    x_labels = np.unique(x) #特征中的分段\n",
    "    woe_dict = {}  #存放每个分段的名称 以及 其对应的woe值\n",
    "    iv = 0\n",
    "    for x1 in x_labels: #遍历每个分段\n",
    "        y1 = y[np.where(x == x1)[0]]\n",
    "        event_count, non_event_count = count_binary(y1, event=event)\n",
    "        rate_event = 1.0 * event_count / event_total\n",
    "        rate_non_event = 1.0 * non_event_count / non_event_total\n",
    "        #woe无穷大时处理\n",
    "        if rate_event == 0:\n",
    "            print()#print(\"{'\",x1,\"'}\"+\":全是好人\") #只输出不做处理\n",
    "        elif rate_non_event == 0:\n",
    "            print()#print(\"{'\",x1,\"'}\"+\":全是坏人\")\n",
    "        else:\n",
    "            woe1 = math.log(rate_event / rate_non_event)\n",
    "            woe_dict[x1] = woe1  \n",
    "            iv += (rate_event - rate_non_event) * woe1\n",
    "    return woe_dict, iv\n",
    "\n",
    "#计算个数\n",
    "def count_binary(a, event):\n",
    "    event_count = (a == event).sum()\n",
    "    non_event_count = a.shape[-1] - event_count\n",
    "    return event_count, non_event_count\n",
    "\n",
    "#判断特征数据是否为离散型\n",
    "def feature_discretion(X):\n",
    "    temp = []\n",
    "    for i in range(0, X.shape[-1]):\n",
    "        x = X[:, i]\n",
    "        x_type = type_of_target(x)\n",
    "        if pd.Series(list(x)).dtype != 'O':\n",
    "            x1 = discrete(x)\n",
    "            temp.append(x1)\n",
    "        else:\n",
    "            temp.append(x)\n",
    "    return np.array(temp).T\n",
    "\n",
    "#对连续型特征进行离散化\n",
    "def discrete(x):\n",
    "    res = np.array([0] * x.shape[-1], dtype=int)\n",
    "    for i in range(5):\n",
    "        point1 = stats.scoreatpercentile(x, i * 20)\n",
    "        point2 = stats.scoreatpercentile(x, (i + 1) * 20)\n",
    "        x1 = x[np.where((x >= point1) & (x <= point2))]\n",
    "        mask = np.in1d(x, x1)\n",
    "        res[mask] = (i + 1)\n",
    "    return res"
   ]
  },
  {
   "cell_type": "code",
   "execution_count": 23,
   "metadata": {},
   "outputs": [],
   "source": [
    "y = data['status'].values\n",
    "x = data.drop('status', axis=1).values"
   ]
  },
  {
   "cell_type": "code",
   "execution_count": 24,
   "metadata": {},
   "outputs": [],
   "source": [
    "a, b = woe(x, y, 1)"
   ]
  },
  {
   "cell_type": "code",
   "execution_count": 25,
   "metadata": {},
   "outputs": [],
   "source": [
    "name = data.drop('status', axis=1).columns"
   ]
  },
  {
   "cell_type": "code",
   "execution_count": 26,
   "metadata": {},
   "outputs": [],
   "source": [
    "dic = dict(zip(name, b))\n",
    "dic_sort= sorted(dic.items(),key = lambda x:x[1],reverse = True)"
   ]
  },
  {
   "cell_type": "code",
   "execution_count": 27,
   "metadata": {},
   "outputs": [
    {
     "data": {
      "text/plain": [
       "[('trans_fail_top_count_enum_last_1_month', 0.5738251555141427),\n",
       " ('history_fail_fee', 0.49612183165064383),\n",
       " ('loans_score', 0.43866404297963046),\n",
       " ('loans_overdue_count', 0.3550896704777049),\n",
       " ('apply_score', 0.3476071802808357),\n",
       " ('trans_fail_top_count_enum_last_12_month', 0.2710896194189564),\n",
       " ('trans_fail_top_count_enum_last_6_month', 0.2599109333204192),\n",
       " ('latest_one_month_fail', 0.14450520167800465),\n",
       " ('latest_one_month_suc', 0.1192399447896281),\n",
       " ('rank_trad_1_month', 0.09658511076715653),\n",
       " ('max_cumulative_consume_later_1_month', 0.09410939090142396),\n",
       " ('trans_day_last_12_month', 0.08888942317190554),\n",
       " ('trans_top_time_last_1_month', 0.0826299051197211),\n",
       " ('pawns_auctions_trusts_consume_last_1_month', 0.05951063024820402),\n",
       " ('consfin_avg_limit', 0.05889557812498972),\n",
       " ('top_trans_count_last_1_month', 0.05865056716321834),\n",
       " ('trans_amount_3_month', 0.04338806330064936),\n",
       " ('consfin_credit_limit', 0.042782256187366335),\n",
       " ('latest_query_day', 0.04154244196885145),\n",
       " ('consume_top_time_last_1_month', 0.039553384369366236),\n",
       " ('latest_three_month_loan', 0.03896003880535014),\n",
       " ('latest_six_month_loan', 0.03389792117578841),\n",
       " ('avg_price_last_12_month', 0.03370632920751868),\n",
       " ('latest_one_month_apply', 0.03078448408062267),\n",
       " ('consfin_max_limit', 0.028031791614930746),\n",
       " ('avg_price_top_last_12_valid_month', 0.02699137000635695),\n",
       " ('trans_days_interval', 0.025821207597918835),\n",
       " ('query_cash_count', 0.0251375140862656),\n",
       " ('consfin_org_count_behavior', 0.024687058901984138),\n",
       " ('consfin_org_count_current', 0.024687058901984138),\n",
       " ('consfin_product_count', 0.024646881934739025),\n",
       " ('trans_amount_increase_rate_lately', 0.02464674022868246),\n",
       " ('loans_org_count_behavior', 0.01973561403505824),\n",
       " ('loans_count', 0.01754807026337108),\n",
       " ('middle_volume_percent', 0.017459156621993863),\n",
       " ('consfin_credibility', 0.016750604818401977),\n",
       " ('historical_trans_day', 0.015995896851179057),\n",
       " ('low_volume_percent', 0.015616181380645567),\n",
       " ('number_of_trans_from_2011', 0.015599686511421053),\n",
       " ('latest_three_month_apply', 0.015082367270686103),\n",
       " ('loans_product_count', 0.015035480994051099),\n",
       " ('first_transaction_day', 0.014583989207158869),\n",
       " ('pawns_auctions_trusts_consume_last_6_month', 0.01456937608182113),\n",
       " ('historical_trans_amount', 0.014464838726127869),\n",
       " ('query_finance_count', 0.014383251194478083),\n",
       " ('loans_max_limit', 0.014296645529955316),\n",
       " ('trans_top_time_last_6_month', 0.013887307521455141),\n",
       " ('consume_top_time_last_6_month', 0.013519804453828572),\n",
       " ('apply_credibility', 0.012946924174719352),\n",
       " ('loans_cash_count', 0.012603794713210627),\n",
       " ('loans_org_count_current', 0.012603794713210627),\n",
       " ('transd_mcc', 0.011781595267027288),\n",
       " ('trans_days_interval_filter', 0.011444262776275273),\n",
       " ('query_sum_count', 0.011041881925720181),\n",
       " ('loans_avg_limit', 0.01091669020686767),\n",
       " ('trans_activity_day', 0.010750014686331575),\n",
       " ('loans_credibility_behavior', 0.0105270374354757),\n",
       " ('consume_mini_time_last_1_month', 0.010485467620825431),\n",
       " ('loans_credibility_limit', 0.010477117093617302),\n",
       " ('query_org_count', 0.010244205953466406),\n",
       " ('loans_credit_limit', 0.00896910373257619),\n",
       " ('abs', 0.008360796516041857),\n",
       " ('trans_activity_month', 0.00817203793866026),\n",
       " ('regional_mobility', 0.005565765349083566),\n",
       " ('loans_latest_day', 0.005218260011414007),\n",
       " ('latest_six_month_apply', 0.004872383192027077),\n",
       " ('take_amount_in_later_12_month_highest', 0.004194902998756873),\n",
       " ('max_consume_count_later_6_month', 0.00396606877592454),\n",
       " ('loans_long_time', 0.003777072709608489),\n",
       " ('history_suc_fee', 0.0027491522515270526),\n",
       " ('latest_one_month_loan', 0.0027318631810237435),\n",
       " ('cross_consume_count_last_1_month', 0.0022962398740564434),\n",
       " ('loans_settle_count', 0.0013331707354143556),\n",
       " ('repayment_capability', 0.0013215572692883452),\n",
       " ('avg_consume_less_12_valid_month', 0.0009294243344249923),\n",
       " ('rpft_0', 9.960473563032136e-06),\n",
       " ('rpft_1', 8.150497268514314e-06),\n",
       " ('is_high_user', 0.0),\n",
       " ('railway_consume_count_last_12_month', 0.0),\n",
       " ('jewelry_consume_count_last_6_month', 0.0),\n",
       " ('rpft_2', 0.0)]"
      ]
     },
     "execution_count": 27,
     "metadata": {},
     "output_type": "execute_result"
    }
   ],
   "source": [
    "dic_sort"
   ]
  },
  {
   "cell_type": "markdown",
   "metadata": {},
   "source": [
    "2.利用随机森林进行变量选择\n",
    "主要根据模型输出的feature_importance进行变量选择"
   ]
  },
  {
   "cell_type": "code",
   "execution_count": 28,
   "metadata": {},
   "outputs": [],
   "source": [
    "from sklearn.ensemble import RandomForestClassifier"
   ]
  },
  {
   "cell_type": "code",
   "execution_count": 29,
   "metadata": {},
   "outputs": [],
   "source": [
    "x = data.drop('status', axis=1)\n",
    "y = data['status']"
   ]
  },
  {
   "cell_type": "code",
   "execution_count": 31,
   "metadata": {},
   "outputs": [
    {
     "data": {
      "text/plain": [
       "RandomForestClassifier(bootstrap=True, class_weight=None, criterion='gini',\n",
       "            max_depth=None, max_features='auto', max_leaf_nodes=None,\n",
       "            min_impurity_decrease=0.0, min_impurity_split=None,\n",
       "            min_samples_leaf=1, min_samples_split=2,\n",
       "            min_weight_fraction_leaf=0.0, n_estimators=10, n_jobs=1,\n",
       "            oob_score=False, random_state=None, verbose=0,\n",
       "            warm_start=False)"
      ]
     },
     "execution_count": 31,
     "metadata": {},
     "output_type": "execute_result"
    }
   ],
   "source": [
    "rf = RandomForestClassifier()\n",
    "rf.fit(x, y)"
   ]
  },
  {
   "cell_type": "code",
   "execution_count": 35,
   "metadata": {},
   "outputs": [],
   "source": [
    "fm = rf.feature_importances_\n",
    "dic_rf = dict(zip(x.columns, fm))\n",
    "dic_sort_rf = sorted(dic_rf.items(), key=lambda x: x[1], reverse=True)"
   ]
  },
  {
   "cell_type": "code",
   "execution_count": 36,
   "metadata": {},
   "outputs": [
    {
     "data": {
      "text/plain": [
       "[('trans_fail_top_count_enum_last_1_month', 0.06116028881863048),\n",
       " ('loans_score', 0.04583306843915648),\n",
       " ('history_fail_fee', 0.045731984291196945),\n",
       " ('apply_score', 0.026261568482083154),\n",
       " ('latest_query_day', 0.02254387339621276),\n",
       " ('max_cumulative_consume_later_1_month', 0.020688172348093756),\n",
       " ('loans_overdue_count', 0.019958442485439036),\n",
       " ('trans_amount_3_month', 0.01895899964141306),\n",
       " ('trans_activity_day', 0.01866420783478019),\n",
       " ('first_transaction_day', 0.01825998732247166),\n",
       " ('latest_one_month_fail', 0.01794663627751045),\n",
       " ('avg_price_last_12_month', 0.017862325684140472),\n",
       " ('repayment_capability', 0.017737367890553475),\n",
       " ('loans_avg_limit', 0.016512138536738774),\n",
       " ('trans_top_time_last_6_month', 0.016395304557166042),\n",
       " ('trans_amount_increase_rate_lately', 0.016299815734742935),\n",
       " ('trans_fail_top_count_enum_last_12_month', 0.015935730650635638),\n",
       " ('historical_trans_day', 0.015575746109557809),\n",
       " ('trans_days_interval', 0.01490338549492998),\n",
       " ('abs', 0.014608793542266883),\n",
       " ('historical_trans_amount', 0.014332213242861708),\n",
       " ('consfin_credit_limit', 0.014189185472765316),\n",
       " ('trans_day_last_12_month', 0.01399481269821668),\n",
       " ('trans_fail_top_count_enum_last_6_month', 0.013493380240304637),\n",
       " ('consfin_avg_limit', 0.013388199101734588),\n",
       " ('number_of_trans_from_2011', 0.013272632391232466),\n",
       " ('pawns_auctions_trusts_consume_last_6_month', 0.012932708676236544),\n",
       " ('loans_latest_day', 0.012869159286062156),\n",
       " ('trans_days_interval_filter', 0.01276384453129228),\n",
       " ('loans_long_time', 0.012356001950940559),\n",
       " ('consfin_credibility', 0.011942669372465495),\n",
       " ('max_consume_count_later_6_month', 0.011734587074619053),\n",
       " ('history_suc_fee', 0.011555770299620476),\n",
       " ('latest_six_month_apply', 0.011526315772922078),\n",
       " ('pawns_auctions_trusts_consume_last_1_month', 0.011279294685098324),\n",
       " ('loans_settle_count', 0.011043859163013772),\n",
       " ('rank_trad_1_month', 0.010979367611294416),\n",
       " ('transd_mcc', 0.010779319314443325),\n",
       " ('apply_credibility', 0.010733150737053684),\n",
       " ('consume_top_time_last_6_month', 0.010547995120672173),\n",
       " ('consume_mini_time_last_1_month', 0.010490550637089887),\n",
       " ('consfin_max_limit', 0.010407797016451953),\n",
       " ('loans_org_count_current', 0.010370752967677737),\n",
       " ('middle_volume_percent', 0.010234988886156097),\n",
       " ('loans_max_limit', 0.010192630379397407),\n",
       " ('query_sum_count', 0.010189612209810335),\n",
       " ('loans_credibility_limit', 0.010163403384868328),\n",
       " ('trans_top_time_last_1_month', 0.010105924676976437),\n",
       " ('loans_credibility_behavior', 0.010088255519123514),\n",
       " ('latest_three_month_apply', 0.009914122858433936),\n",
       " ('query_cash_count', 0.009766130228331404),\n",
       " ('latest_six_month_loan', 0.00962920230921842),\n",
       " ('loans_count', 0.009434657542652271),\n",
       " ('query_org_count', 0.00942130396563011),\n",
       " ('query_finance_count', 0.009279735562085594),\n",
       " ('latest_one_month_apply', 0.009089435874024014),\n",
       " ('loans_product_count', 0.008800728847111994),\n",
       " ('trans_activity_month', 0.008526674098909347),\n",
       " ('avg_consume_less_12_valid_month', 0.00847537259818262),\n",
       " ('latest_three_month_loan', 0.008411160793009752),\n",
       " ('loans_credit_limit', 0.008308170233582008),\n",
       " ('consume_top_time_last_1_month', 0.008164666802313451),\n",
       " ('avg_price_top_last_12_valid_month', 0.008136623262853884),\n",
       " ('consfin_product_count', 0.008056027036821598),\n",
       " ('take_amount_in_later_12_month_highest', 0.007657611785272325),\n",
       " ('loans_cash_count', 0.007532281348046624),\n",
       " ('loans_org_count_behavior', 0.007175138225768686),\n",
       " ('latest_one_month_suc', 0.006758773560605469),\n",
       " ('low_volume_percent', 0.006339366363063396),\n",
       " ('consfin_org_count_current', 0.005759269137813928),\n",
       " ('top_trans_count_last_1_month', 0.005601535760868388),\n",
       " ('consfin_org_count_behavior', 0.005093324199322086),\n",
       " ('regional_mobility', 0.0038813187854900193),\n",
       " ('cross_consume_count_last_1_month', 0.0028726616015754126),\n",
       " ('rpft_0', 0.002134022460735658),\n",
       " ('latest_one_month_loan', 0.002013818962858354),\n",
       " ('railway_consume_count_last_12_month', 0.0014888090656157058),\n",
       " ('rpft_1', 0.0014344335778074652),\n",
       " ('rpft_2', 0.0006174302930064936),\n",
       " ('jewelry_consume_count_last_6_month', 0.0004299729008681358),\n",
       " ('is_high_user', 0.0)]"
      ]
     },
     "execution_count": 36,
     "metadata": {},
     "output_type": "execute_result"
    }
   ],
   "source": [
    "dic_sort_rf"
   ]
  },
  {
   "cell_type": "markdown",
   "metadata": {},
   "source": [
    "3.采用互信息进行变量选择"
   ]
  },
  {
   "cell_type": "code",
   "execution_count": null,
   "metadata": {},
   "outputs": [],
   "source": [
    "from sklearn.feature_selection import mutual_info_classif"
   ]
  },
  {
   "cell_type": "code",
   "execution_count": 38,
   "metadata": {},
   "outputs": [],
   "source": [
    "mf = mutual_info_classif(x, y)"
   ]
  },
  {
   "cell_type": "code",
   "execution_count": 40,
   "metadata": {},
   "outputs": [],
   "source": [
    "dic_mf = dict(zip(x.columns, mf))\n",
    "dic_sort_mf = sorted(dic_mf.items(), key=lambda x:x[1], reverse=True)"
   ]
  },
  {
   "cell_type": "code",
   "execution_count": 41,
   "metadata": {},
   "outputs": [
    {
     "data": {
      "text/plain": [
       "[('trans_fail_top_count_enum_last_1_month', 0.07055262151591957),\n",
       " ('loans_score', 0.0572266437685065),\n",
       " ('history_fail_fee', 0.053906781982533625),\n",
       " ('loans_overdue_count', 0.0483835864627542),\n",
       " ('apply_score', 0.03923662307936948),\n",
       " ('latest_one_month_fail', 0.03154375514983854),\n",
       " ('trans_fail_top_count_enum_last_6_month', 0.03049331700710667),\n",
       " ('latest_query_day', 0.021427321616209527),\n",
       " ('max_cumulative_consume_later_1_month', 0.019426923420200026),\n",
       " ('trans_fail_top_count_enum_last_12_month', 0.01788811892743225),\n",
       " ('loans_long_time', 0.017522038100941772),\n",
       " ('trans_amount_increase_rate_lately', 0.015533945487086642),\n",
       " ('consfin_org_count_current', 0.015170090089650534),\n",
       " ('loans_product_count', 0.013817245610021622),\n",
       " ('latest_one_month_suc', 0.013679846969175014),\n",
       " ('pawns_auctions_trusts_consume_last_1_month', 0.013490341869606182),\n",
       " ('middle_volume_percent', 0.013205835337825267),\n",
       " ('query_finance_count', 0.01287986637114824),\n",
       " ('latest_three_month_loan', 0.011420768156729766),\n",
       " ('trans_amount_3_month', 0.01129772883834712),\n",
       " ('latest_one_month_apply', 0.011016123141381451),\n",
       " ('trans_day_last_12_month', 0.010863631429158582),\n",
       " ('consume_top_time_last_1_month', 0.009420398055503654),\n",
       " ('trans_days_interval', 0.008912128310526679),\n",
       " ('railway_consume_count_last_12_month', 0.00869039074924971),\n",
       " ('consfin_avg_limit', 0.00808906473465476),\n",
       " ('loans_count', 0.00795338537831558),\n",
       " ('loans_org_count_behavior', 0.007920627581589068),\n",
       " ('consume_mini_time_last_1_month', 0.007719879318634382),\n",
       " ('rpft_1', 0.007583628318365676),\n",
       " ('trans_days_interval_filter', 0.006796981348406117),\n",
       " ('query_sum_count', 0.006632605054677443),\n",
       " ('loans_credibility_behavior', 0.005979753129331522),\n",
       " ('consfin_credit_limit', 0.005838873363648078),\n",
       " ('avg_price_top_last_12_valid_month', 0.005754440860248122),\n",
       " ('consfin_product_count', 0.005634417912822043),\n",
       " ('trans_top_time_last_1_month', 0.00504905613759421),\n",
       " ('trans_activity_month', 0.004921728164427153),\n",
       " ('loans_latest_day', 0.004464838334229615),\n",
       " ('rank_trad_1_month', 0.004178146723164966),\n",
       " ('regional_mobility', 0.004164239413502413),\n",
       " ('is_high_user', 0.0034174387005796447),\n",
       " ('query_org_count', 0.0025225158644932577),\n",
       " ('latest_six_month_loan', 0.002293795002191068),\n",
       " ('max_consume_count_later_6_month', 0.0019936194803023),\n",
       " ('consfin_max_limit', 0.0015547387886807318),\n",
       " ('rpft_0', 0.0008788958033019156),\n",
       " ('consfin_credibility', 0.0007961864050400891),\n",
       " ('pawns_auctions_trusts_consume_last_6_month', 0.000623737560179416),\n",
       " ('avg_consume_less_12_valid_month', 0.0005113056152621365),\n",
       " ('low_volume_percent', 0.0),\n",
       " ('take_amount_in_later_12_month_highest', 0.0),\n",
       " ('trans_activity_day', 0.0),\n",
       " ('transd_mcc', 0.0),\n",
       " ('repayment_capability', 0.0),\n",
       " ('number_of_trans_from_2011', 0.0),\n",
       " ('historical_trans_amount', 0.0),\n",
       " ('historical_trans_day', 0.0),\n",
       " ('abs', 0.0),\n",
       " ('top_trans_count_last_1_month', 0.0),\n",
       " ('avg_price_last_12_month', 0.0),\n",
       " ('trans_top_time_last_6_month', 0.0),\n",
       " ('consume_top_time_last_6_month', 0.0),\n",
       " ('cross_consume_count_last_1_month', 0.0),\n",
       " ('jewelry_consume_count_last_6_month', 0.0),\n",
       " ('first_transaction_day', 0.0),\n",
       " ('apply_credibility', 0.0),\n",
       " ('query_cash_count', 0.0),\n",
       " ('latest_three_month_apply', 0.0),\n",
       " ('latest_six_month_apply', 0.0),\n",
       " ('loans_settle_count', 0.0),\n",
       " ('consfin_org_count_behavior', 0.0),\n",
       " ('loans_cash_count', 0.0),\n",
       " ('latest_one_month_loan', 0.0),\n",
       " ('history_suc_fee', 0.0),\n",
       " ('loans_credit_limit', 0.0),\n",
       " ('loans_credibility_limit', 0.0),\n",
       " ('loans_org_count_current', 0.0),\n",
       " ('loans_max_limit', 0.0),\n",
       " ('loans_avg_limit', 0.0),\n",
       " ('rpft_2', 0.0)]"
      ]
     },
     "execution_count": 41,
     "metadata": {},
     "output_type": "execute_result"
    }
   ],
   "source": [
    "dic_sort_mf"
   ]
  },
  {
   "cell_type": "code",
   "execution_count": null,
   "metadata": {},
   "outputs": [],
   "source": []
  }
 ],
 "metadata": {
  "kernelspec": {
   "display_name": "Python 3",
   "language": "python",
   "name": "python3"
  },
  "language_info": {
   "codemirror_mode": {
    "name": "ipython",
    "version": 3
   },
   "file_extension": ".py",
   "mimetype": "text/x-python",
   "name": "python",
   "nbconvert_exporter": "python",
   "pygments_lexer": "ipython3",
   "version": "3.6.5"
  }
 },
 "nbformat": 4,
 "nbformat_minor": 2
}
